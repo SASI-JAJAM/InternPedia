{
  "nbformat": 4,
  "nbformat_minor": 0,
  "metadata": {
    "colab": {
      "provenance": [],
      "authorship_tag": "ABX9TyOl51HRSLd9hyWEzHfoHwqv",
      "include_colab_link": true
    },
    "kernelspec": {
      "name": "python3",
      "display_name": "Python 3"
    },
    "language_info": {
      "name": "python"
    }
  },
  "cells": [
    {
      "cell_type": "markdown",
      "metadata": {
        "id": "view-in-github",
        "colab_type": "text"
      },
      "source": [
        "<a href=\"https://colab.research.google.com/github/SASI-JAJAM/InternPedia/blob/main/currency_converter.ipynb\" target=\"_parent\"><img src=\"https://colab.research.google.com/assets/colab-badge.svg\" alt=\"Open In Colab\"/></a>"
      ]
    },
    {
      "cell_type": "code",
      "source": [
        "import requests"
      ],
      "metadata": {
        "id": "Pbq9xJjiOPjL"
      },
      "execution_count": 1,
      "outputs": []
    },
    {
      "cell_type": "code",
      "source": [
        "# Function to fetch live exchange rates from an API\n",
        "def get_exchange_rates():\n",
        "    try:\n",
        "        # Using ExchangeRate-API (https://www.exchangerate-api.com/) for live exchange rates\n",
        "        url = 'https://api.exchangerate-api.com/v4/latest/USD'\n",
        "        response = requests.get(url)\n",
        "        data = response.json()\n",
        "        rates = data['rates']\n",
        "        return rates\n",
        "    except requests.exceptions.RequestException as e:\n",
        "        print(\"Error fetching exchange rates:\", e)\n",
        "        return None"
      ],
      "metadata": {
        "id": "It410dDWORt-"
      },
      "execution_count": 2,
      "outputs": []
    },
    {
      "cell_type": "code",
      "source": [
        "# Function to convert currency\n",
        "def convert_currency(amount, source_currency, target_currency, rates):\n",
        "    if source_currency in rates and target_currency in rates:\n",
        "        source_rate = rates[source_currency]\n",
        "        target_rate = rates[target_currency]\n",
        "        converted_amount = amount / source_rate * target_rate\n",
        "        return converted_amount\n",
        "    else:\n",
        "        return None"
      ],
      "metadata": {
        "id": "rh4b7FciOYxx"
      },
      "execution_count": 3,
      "outputs": []
    },
    {
      "cell_type": "code",
      "source": [
        "# Function to display the result\n",
        "def display_result(amount, source_currency, target_currency, converted_amount):\n",
        "    print(f\"{amount} {source_currency} is equal to {converted_amount:.2f} {target_currency}\\n\")\n"
      ],
      "metadata": {
        "id": "WyDrADo5OcME"
      },
      "execution_count": 4,
      "outputs": []
    },
    {
      "cell_type": "code",
      "source": [
        "# Main function\n",
        "def main():\n",
        "    print(\"Welcome to the Currency Converter Program!\")\n",
        "\n",
        "    # Fetch exchange rates\n",
        "    rates = get_exchange_rates()\n",
        "    if rates is None:\n",
        "        return\n",
        "\n",
        "    while True:\n",
        "        print(\"Available currencies: USD, EUR, GBP, JPY, CAD, AUD\")\n",
        "        source_currency = input(\"Enter source currency: \").upper()\n",
        "        target_currency = input(\"Enter target currency: \").upper()\n",
        "\n",
        "        if source_currency == target_currency:\n",
        "            print(\"Source and target currencies cannot be the same.\\n\")\n",
        "            continue\n",
        "\n",
        "        if source_currency not in rates or target_currency not in rates:\n",
        "            print(\"Invalid currency selection. Please choose from the available currencies.\\n\")\n",
        "            continue\n",
        "\n",
        "        try:\n",
        "            amount = float(input(\"Enter the amount to convert: \"))\n",
        "        except ValueError:\n",
        "            print(\"Invalid input. Please enter a valid amount.\\n\")\n",
        "            continue\n",
        "\n",
        "        converted_amount = convert_currency(amount, source_currency, target_currency, rates)\n",
        "        if converted_amount is not None:\n",
        "            display_result(amount, source_currency, target_currency, converted_amount)\n",
        "        else:\n",
        "            print(\"Conversion failed. Please try again.\\n\")\n",
        "\n",
        "        choice = input(\"Do you want to perform another conversion? (yes/no): \").lower()\n",
        "        if choice != 'yes':\n",
        "            print(\"Thank you for using the Currency Converter Program. Goodbye!\")\n",
        "            break"
      ],
      "metadata": {
        "id": "tk7bjWmrOgbR"
      },
      "execution_count": 5,
      "outputs": []
    },
    {
      "cell_type": "code",
      "source": [
        "if __name__ == \"__main__\":\n",
        "    main()"
      ],
      "metadata": {
        "colab": {
          "base_uri": "https://localhost:8080/"
        },
        "id": "MFeHYmY-OmfQ",
        "outputId": "f4ac74b7-3a07-4b9a-9a07-078f3934d70d"
      },
      "execution_count": 6,
      "outputs": [
        {
          "output_type": "stream",
          "name": "stdout",
          "text": [
            "Welcome to the Currency Converter Program!\n",
            "Available currencies: USD, EUR, GBP, JPY, CAD, AUD\n",
            "Enter source currency: usd\n",
            "Enter target currency: jpy\n",
            "Enter the amount to convert: 300\n",
            "300.0 USD is equal to 47052.00 JPY\n",
            "\n",
            "Do you want to perform another conversion? (yes/no): no\n",
            "Thank you for using the Currency Converter Program. Goodbye!\n"
          ]
        }
      ]
    },
    {
      "cell_type": "code",
      "source": [],
      "metadata": {
        "id": "ehAWQjpXOpgT"
      },
      "execution_count": null,
      "outputs": []
    }
  ]
}