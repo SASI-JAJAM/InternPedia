{
  "nbformat": 4,
  "nbformat_minor": 0,
  "metadata": {
    "colab": {
      "provenance": [],
      "authorship_tag": "ABX9TyMwcKk2peFoRbMa+VxV/KI1",
      "include_colab_link": true
    },
    "kernelspec": {
      "name": "python3",
      "display_name": "Python 3"
    },
    "language_info": {
      "name": "python"
    }
  },
  "cells": [
    {
      "cell_type": "markdown",
      "metadata": {
        "id": "view-in-github",
        "colab_type": "text"
      },
      "source": [
        "<a href=\"https://colab.research.google.com/github/SASI-JAJAM/InternPedia/blob/main/todolist.ipynb\" target=\"_parent\"><img src=\"https://colab.research.google.com/assets/colab-badge.svg\" alt=\"Open In Colab\"/></a>"
      ]
    },
    {
      "cell_type": "code",
      "execution_count": 1,
      "metadata": {
        "id": "wlaSUYgdXsr4"
      },
      "outputs": [],
      "source": [
        "import json\n"
      ]
    },
    {
      "cell_type": "code",
      "source": [
        "# Function to load tasks from file\n",
        "def load_tasks(filename):\n",
        "    try:\n",
        "        with open(filename, 'r') as file:\n",
        "            return json.load(file)\n",
        "    except FileNotFoundError:\n",
        "        return []"
      ],
      "metadata": {
        "id": "OInw6H5LYDPh"
      },
      "execution_count": 2,
      "outputs": []
    },
    {
      "cell_type": "code",
      "source": [
        "# Function to save tasks to file\n",
        "def save_tasks(tasks, filename):\n",
        "    with open(filename, 'w') as file:\n",
        "        json.dump(tasks, file)"
      ],
      "metadata": {
        "id": "csUiBmDCYSZU"
      },
      "execution_count": 3,
      "outputs": []
    },
    {
      "cell_type": "code",
      "source": [
        "# Function to display menu\n",
        "def display_menu():\n",
        "    print(\"TO-DO LIST\")\n",
        "    print(\"1. View Tasks\")\n",
        "    print(\"2. Add Task\")\n",
        "    print(\"3. Mark Task as Done\")\n",
        "    print(\"4. Mark Task as Undone\")\n",
        "    print(\"5. Remove Task\")\n",
        "    print(\"6. Save and Quit\")"
      ],
      "metadata": {
        "id": "IEEa1t-XYc1N"
      },
      "execution_count": 4,
      "outputs": []
    },
    {
      "cell_type": "code",
      "source": [
        "# Function to view tasks\n",
        "def view_tasks(tasks):\n",
        "    print(\"YOUR TASKS\")\n",
        "    if tasks:\n",
        "        for index, task in enumerate(tasks, start=1):\n",
        "            status = \"[X]\" if task['done'] else \"[ ]\"\n",
        "            print(f\"{index}. {status} {task['task']}\")\n",
        "    else:\n",
        "        print(\"No tasks found.\")"
      ],
      "metadata": {
        "id": "rrF4htCeYm_g"
      },
      "execution_count": 5,
      "outputs": []
    },
    {
      "cell_type": "code",
      "source": [
        "# Function to add a new task\n",
        "def add_task(tasks):\n",
        "    task = input(\"Enter the task: \")\n",
        "    tasks.append({\"task\": task, \"done\": False})\n",
        "    print(\"Task added successfully.\")"
      ],
      "metadata": {
        "id": "Yno-8P8-YrfR"
      },
      "execution_count": 6,
      "outputs": []
    },
    {
      "cell_type": "code",
      "source": [
        "# Function to mark task as done or undone\n",
        "def mark_task(tasks, done=True):\n",
        "    view_tasks(tasks)\n",
        "    try:\n",
        "        index = int(input(\"Enter the task number: \")) - 1\n",
        "        tasks[index]['done'] = done\n",
        "        print(\"Task marked successfully.\")\n",
        "    except (ValueError, IndexError):\n",
        "        print(\"Invalid task number.\")\n"
      ],
      "metadata": {
        "id": "jgykYQW8Y_n9"
      },
      "execution_count": 7,
      "outputs": []
    },
    {
      "cell_type": "code",
      "source": [
        "# Function to remove a task\n",
        "def remove_task(tasks):\n",
        "    view_tasks(tasks)\n",
        "    try:\n",
        "        index = int(input(\"Enter the task number to remove: \")) - 1\n",
        "        del tasks[index]\n",
        "        print(\"Task removed successfully.\")\n",
        "    except (ValueError, IndexError):\n",
        "        print(\"Invalid task number.\")\n"
      ],
      "metadata": {
        "id": "fXXpRJeSZGz_"
      },
      "execution_count": 8,
      "outputs": []
    },
    {
      "cell_type": "code",
      "source": [
        "# Main function\n",
        "def main():\n",
        "    filename = \"tasks.json\"\n",
        "    tasks = load_tasks(filename)\n",
        "\n",
        "    while True:\n",
        "        display_menu()\n",
        "        choice = input(\"Enter your choice: \")\n",
        "\n",
        "        if choice == '1':\n",
        "            view_tasks(tasks)\n",
        "        elif choice == '2':\n",
        "            add_task(tasks)\n",
        "        elif choice == '3':\n",
        "            mark_task(tasks)\n",
        "        elif choice == '4':\n",
        "            mark_task(tasks, done=False)\n",
        "        elif choice == '5':\n",
        "            remove_task(tasks)\n",
        "        elif choice == '6':\n",
        "            save_tasks(tasks, filename)\n",
        "            print(\"Tasks saved. Quitting.\")\n",
        "            break\n",
        "        else:\n",
        "            print(\"Invalid choice. Please choose again.\")"
      ],
      "metadata": {
        "id": "CI3BkiWvZkt8"
      },
      "execution_count": 9,
      "outputs": []
    },
    {
      "cell_type": "code",
      "source": [
        "if __name__ == \"__main__\":\n",
        "    main()"
      ],
      "metadata": {
        "colab": {
          "base_uri": "https://localhost:8080/"
        },
        "id": "zbU8v_G8ZsBs",
        "outputId": "327cc5b0-95fe-4bea-b705-18db42172faa"
      },
      "execution_count": 10,
      "outputs": [
        {
          "output_type": "stream",
          "name": "stdout",
          "text": [
            "TO-DO LIST\n",
            "1. View Tasks\n",
            "2. Add Task\n",
            "3. Mark Task as Done\n",
            "4. Mark Task as Undone\n",
            "5. Remove Task\n",
            "6. Save and Quit\n",
            "Enter your choice: 1\n",
            "YOUR TASKS\n",
            "No tasks found.\n",
            "TO-DO LIST\n",
            "1. View Tasks\n",
            "2. Add Task\n",
            "3. Mark Task as Done\n",
            "4. Mark Task as Undone\n",
            "5. Remove Task\n",
            "6. Save and Quit\n",
            "Enter your choice: 2\n",
            "Enter the task: clg meetup\n",
            "Task added successfully.\n",
            "TO-DO LIST\n",
            "1. View Tasks\n",
            "2. Add Task\n",
            "3. Mark Task as Done\n",
            "4. Mark Task as Undone\n",
            "5. Remove Task\n",
            "6. Save and Quit\n",
            "Enter your choice: 1\n",
            "YOUR TASKS\n",
            "1. [ ] clg meetup\n",
            "TO-DO LIST\n",
            "1. View Tasks\n",
            "2. Add Task\n",
            "3. Mark Task as Done\n",
            "4. Mark Task as Undone\n",
            "5. Remove Task\n",
            "6. Save and Quit\n",
            "Enter your choice: 6\n",
            "Tasks saved. Quitting.\n"
          ]
        }
      ]
    },
    {
      "cell_type": "code",
      "source": [],
      "metadata": {
        "id": "0El494BzZ7Kl"
      },
      "execution_count": null,
      "outputs": []
    }
  ]
}